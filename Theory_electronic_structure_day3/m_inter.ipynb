{
 "cells": [
  {
   "cell_type": "markdown",
   "metadata": {},
   "source": [
    "# Exploring molecular interactions using electronic structure methods."
   ]
  },
  {
   "cell_type": "markdown",
   "metadata": {},
   "source": [
    "For today's activity we will use the package of programs psi4, so we will need to install it first. \n",
    "The psi4 python module can be installed using the anaconda python platform. To do this download anaconda in:\n",
    "\n",
    "https://www.anaconda.com/download/#linux\n",
    "\n",
    "You can download either the 2.7 or 3.6 verison depending on your preference. \n",
    "\n",
    "Once downloaded and installed it is recomended to create a psi4 environment form which\n",
    "the psi4 module can be loaded. Run the comand:\n",
    "\n",
    "**conda create -n p4env python=2.7 psi4 psi4-rt -c psi4/label/dev -c psi4**\n",
    "\n",
    "This will install all the psi4 binaries and a python module which can be imported from the notebook.\n",
    "To finish the installation you need to provide a scratch directory in your .bashrc, for example:\n",
    "\n",
    "**export PSI_SCRATCH=/home/user_name/scratch/psi4**\n",
    "\n",
    "Finally source your .bashrc and activate the environment\n",
    "\n",
    "**source activate p4env**\n",
    "\n",
    "Now you may open jupyter-notebook and install psi4.\n",
    "\n"
   ]
  },
  {
   "cell_type": "code",
   "execution_count": null,
   "metadata": {
    "collapsed": true
   },
   "outputs": [],
   "source": [
    "import psi4 \n",
    "import numpy as np"
   ]
  },
  {
   "cell_type": "markdown",
   "metadata": {},
   "source": [
    "# 1. Compute the energy of a diatomic molecules.\n",
    "\n",
    "\n",
    "As a first example we will compute the scf energy of the diatomic molecule hydrogen fluoride (HF):\n"
   ]
  },
  {
   "cell_type": "code",
   "execution_count": null,
   "metadata": {},
   "outputs": [],
   "source": [
    "# ==> Opciones Básicas Psi4 <==\n",
    "# Memoria\n",
    "psi4.set_memory(int(5e8))\n",
    "numpy_memory = 500\n",
    "\n",
    "# Output\n",
    "psi4.core.set_output_file('output.dat', False)\n",
    "\n",
    "# Geometría\n",
    "hf_mol = psi4.geometry(\"\"\"\n",
    "0 1\n",
    "H\n",
    "F 1 0.917\n",
    "\"\"\")\n",
    "\n",
    "#psi4.optimize('scf/cc-pvtz')\n",
    "#di_mat = hf_mol.distance_matrix()\n",
    "#print np.asarray(di_mat)\n",
    "energy_hf_mol , wfn_hf_mol = psi4.energy('mp2/cc-pvtz', return_wfn=True)\n",
    "print energy_hf_mol"
   ]
  },
  {
   "cell_type": "markdown",
   "metadata": {},
   "source": [
    "This corresponds to the Born-Oppenheimer scf energy of HF. Now it's your turn. Compute the single point energy \n",
    "of F$_2$ and N$_2$ using the cc-pVDZ and cc-pVTZ. "
   ]
  },
  {
   "cell_type": "markdown",
   "metadata": {},
   "source": [
    "# 2. Compute the dipole and quadrupole moment of diatomic molecules"
   ]
  },
  {
   "cell_type": "markdown",
   "metadata": {},
   "source": [
    "Since we are interested in studying long range  molecular interactions using classical electrodynamics, it is necessary \n",
    "to compute the dipole and quadrupole moments. Quantum mechanically the dipole can be computed using the one electron dipole operator:\n",
    "\n",
    "\\begin{equation}\n",
    "\\hat{\\mu} = \\sum_i q_i r_i \n",
    "\\end{equation}\n",
    "\n",
    "where $q_i$ is the charge of the particle and $r_i$ is the position vector of the particle.  The dipole moment can be computed using the wavefunction through the expectation value of the operator $\\mu$.\n",
    "\n",
    "\\begin{equation}\n",
    "\\mu = <\\psi|\\hat{\\mu}|\\psi> \n",
    "\\end{equation}\n",
    "\n",
    "In psi4 we can obtain the dipole moment from the wavefunction object that was defined above"
   ]
  },
  {
   "cell_type": "code",
   "execution_count": null,
   "metadata": {
    "collapsed": true
   },
   "outputs": [],
   "source": [
    "psi4.oeprop(wfn_hf_mol, 'DIPOLE', 'QUADRUPOLE', title='HF SCF')\n",
    "\n",
    "mux = psi4.core.get_variable('HF SCF DIPOLE X') # in debye\n",
    "muy = psi4.core.get_variable('HF SCF DIPOLE Y')\n",
    "muz = psi4.core.get_variable('HF SCF DIPOLE Z')\n",
    "quad_zz = psi4.core.get_variable('HF SCF QUADRUPOLE ZZ')"
   ]
  },
  {
   "cell_type": "code",
   "execution_count": null,
   "metadata": {},
   "outputs": [],
   "source": [
    "print muz\n",
    "print quad_zz\n",
    "mu = (np.sqrt(mux**2 + muy**2 + muz**2))\n",
    "print mu"
   ]
  },
  {
   "cell_type": "markdown",
   "metadata": {
    "collapsed": true
   },
   "source": [
    "# 3.  Compute a potential energy surface of HF dimer.\n",
    "\n",
    "In order to study the physical interactions between two molecules it is convenient to draw \n",
    "a potential energy surface along the interaction coordinate. In this section we will \n",
    "obtain a potential energy profile for the most favorable dipole-dipole interaction, which is the \n",
    "horizontal orientation with opposing dipole vectors, HF---HF. First we need to define a list containing \n",
    "the distances between both dimers for which the energy will be obtained."
   ]
  },
  {
   "cell_type": "code",
   "execution_count": null,
   "metadata": {
    "collapsed": true
   },
   "outputs": [],
   "source": [
    "hf_dimer = psi4.geometry(\"\"\"\n",
    "        0 1\n",
    "        H\n",
    "        F 1 0.917\n",
    "        H 2 R 1 180.0\n",
    "        F 3 0.917 2 180.0 1 0.0\n",
    "        \"\"\")"
   ]
  },
  {
   "cell_type": "markdown",
   "metadata": {},
   "source": [
    "Next, we write a loop and in each step of the loop we compute the energy at the mp4 level of theory. "
   ]
  },
  {
   "cell_type": "code",
   "execution_count": null,
   "metadata": {},
   "outputs": [],
   "source": [
    "energy = []\n",
    "dist   = []\n",
    "\n",
    "Rval = np.arange(1.5,10.0,0.1)\n",
    "\n",
    "for d in Rval:\n",
    "    hf_dimer.R = d\n",
    "    psi4.set_options({'freeze_core': 'True'})\n",
    "    en = psi4.energy('scf/cc-pvtz')\n",
    "    print en\n",
    "    print d\n",
    "    energy.append(en)\n",
    "    dist.append(d)\n"
   ]
  },
  {
   "cell_type": "markdown",
   "metadata": {},
   "source": [
    "Now we are ready to plot the potential energy profile. We will use the matplotlib python library for this \n",
    "purpose. The function ref_cero_kcal transforms the energy which is in hartee to kcal/mol and takes the \n",
    "energy of the dimer with the farthest separation as the reference energy."
   ]
  },
  {
   "cell_type": "code",
   "execution_count": null,
   "metadata": {
    "collapsed": true
   },
   "outputs": [],
   "source": [
    "import matplotlib.pyplot as plt\n",
    "%matplotlib inline"
   ]
  },
  {
   "cell_type": "code",
   "execution_count": null,
   "metadata": {},
   "outputs": [],
   "source": [
    "def ref_cero_kcal(en_list):\n",
    "    energy_kcal = []\n",
    "    for x in range(len(en_list)):\n",
    "        energy_kcal.append((en_list[x] - en_list[-1])*627.51)\n",
    "    return energy_kcal\n",
    "\n",
    "\n",
    "energy_kcal = ref_cero_kcal(energy)    \n",
    "plt.plot(dist,energy_kcal)\n"
   ]
  },
  {
   "cell_type": "markdown",
   "metadata": {},
   "source": [
    "**Exercise:** Using the data from the plot, make an estimate of the interaction energy in kcal/mol. Corroborate your results computing the interaction energy using the super-molecule approach. ( Hint: 1 hartree = 627.51 kcal/mol). What percentage of the total energy is the intermolecular interaction energy? "
   ]
  },
  {
   "cell_type": "code",
   "execution_count": null,
   "metadata": {
    "collapsed": true
   },
   "outputs": [],
   "source": [
    "hf_dimer_min = psi4.geometry(\"\"\"\n",
    "        0 1\n",
    "        H\n",
    "        F 1 0.917\n",
    "        H 2 1.980 1 180.0\n",
    "        F 3 0.917 2 180.0 1 0.0\n",
    "        \"\"\")\n",
    "\n",
    "energy_hf_dimer_min , wfn_hf_dimer_min = psi4.energy('mp2/cc-pvtz', return_wfn=True)"
   ]
  },
  {
   "cell_type": "code",
   "execution_count": null,
   "metadata": {},
   "outputs": [],
   "source": [
    "print energy_hf_dimer_min\n",
    "\n",
    "int_energy = (energy_hf_dimer_min - 2*energy_hf_mol)\n",
    "\n",
    "print int_energy*627.51\n",
    "\n",
    "print(\"Percentage: \"+str((int_energy/energy_hf_dimer_min)*100))\n"
   ]
  },
  {
   "cell_type": "markdown",
   "metadata": {},
   "source": [
    "# 4. The effect of electron correlation\n",
    "\n",
    "Since we know that the dispersion energy arises only when the motion of the electrons on the different molecular fragments are correlated, it is possible to evalute the importance of disperison efects by using\n",
    "methods that include diferent levels of electron correlation. \n",
    "\n",
    "**Exercices**: Construct a potential energy curve at the SCF, MP2 and MP4 level of theory and \n",
    "asses the importance of including electron correlation along the intermolecular coordinate."
   ]
  },
  {
   "cell_type": "code",
   "execution_count": null,
   "metadata": {},
   "outputs": [],
   "source": [
    "energy_scf = []\n",
    "energy_mp2 = []\n",
    "energy_mp4 = []\n",
    "dist = []\n",
    "\n",
    "for d in Rval:\n",
    "    hf_dimer.R = d\n",
    "    psi4.set_options({'freeze_core': 'True'})\n",
    "    en_scf = psi4.energy('scf/cc-pvtz')\n",
    "    en_mp2 = psi4.energy('mp2/cc-pvtz')\n",
    "    en_mp4 = psi4.energy('mp4/cc-pvtz')\n",
    "    print en_scf\n",
    "    print d\n",
    "    energy_scf.append(en_scf)\n",
    "    energy_mp2.append(en_mp2)\n",
    "    energy_mp4.append(en_mp4)\n",
    "    dist.append(d)"
   ]
  },
  {
   "cell_type": "code",
   "execution_count": null,
   "metadata": {},
   "outputs": [],
   "source": [
    "energy_scf_kcal = ref_cero_kcal(energy_scf)  \n",
    "energy_mp2_kcal = ref_cero_kcal(energy_mp2)  \n",
    "energy_mp4_kcal = ref_cero_kcal(energy_mp4)  \n",
    "\n",
    "plt.plot(dist,energy_scf_kcal)\n",
    "plt.plot(dist,energy_mp2_kcal)\n",
    "plt.plot(dist,energy_mp4_kcal)\n",
    "\n"
   ]
  },
  {
   "cell_type": "markdown",
   "metadata": {},
   "source": [
    "# 5. Energy decomposition with SAPT\n",
    "\n",
    "So far we have only computed the interaction energy as a whole, however we know that we can\n",
    "decompose the interaction energy into contributions stemming from different physical phenomena, \n",
    "in particular, electrostatic, induction, dispersion and exchange interactions. First we will run a \n",
    "SAPT0 calculation to obtain the total interaction energy and compare it to the results we obtained \n",
    "above."
   ]
  },
  {
   "cell_type": "code",
   "execution_count": null,
   "metadata": {},
   "outputs": [],
   "source": [
    "hf_dimer_sapt = psi4.geometry('''\n",
    "     0 1\n",
    "     H  0.0 0.0 0.0\n",
    "     F  0.0 0.0 0.917\n",
    "     --\n",
    "    0 1\n",
    "     H  0.0 0.0 2.951\n",
    "     F  0.0 0.0 3.868\n",
    "     symmetry c1\n",
    "''')\n",
    "\n",
    "psi4.set_options({'basis': 'jun-cc-pVDZ',\n",
    "                  'e_convergence': 1e-8,\n",
    "                  'd_convergence': 1e-8})\n",
    "\n",
    "psi4.energy('sapt0')"
   ]
  },
  {
   "cell_type": "markdown",
   "metadata": {},
   "source": [
    "Check the output file for energy decomposition analysis. Which contribution is dominant, and what do you think\n",
    "is the physical reason for it? "
   ]
  },
  {
   "cell_type": "markdown",
   "metadata": {},
   "source": [
    "**Exercise:** Repeat the above analysis with the Argon dimer $Ar_2$. What can you say about the importance \n",
    "of the correlation energy in this case? Which is the dominant contribution in the case of the Ar dimer?"
   ]
  },
  {
   "cell_type": "code",
   "execution_count": null,
   "metadata": {
    "collapsed": true
   },
   "outputs": [],
   "source": []
  }
 ],
 "metadata": {
  "kernelspec": {
   "display_name": "Python 2",
   "language": "python",
   "name": "python2"
  },
  "language_info": {
   "codemirror_mode": {
    "name": "ipython",
    "version": 2
   },
   "file_extension": ".py",
   "mimetype": "text/x-python",
   "name": "python",
   "nbconvert_exporter": "python",
   "pygments_lexer": "ipython2",
   "version": "2.7.13"
  }
 },
 "nbformat": 4,
 "nbformat_minor": 2
}

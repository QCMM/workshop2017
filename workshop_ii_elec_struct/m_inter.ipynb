{
 "cells": [
  {
   "cell_type": "markdown",
   "metadata": {},
   "source": [
    "# Exploring molecular interactions using electronic structure methods."
   ]
  },
  {
   "cell_type": "markdown",
   "metadata": {},
   "source": [
    "For todays activity we will use the package of programs psi4, so we will need to install it first. \n",
    "The psi4 python module can be installed using the anaconda python platform. To do this download anaconda in:\n",
    "\n",
    "https://www.anaconda.com/download/#linux\n",
    "\n",
    "You can download either the 2.7 or 3.6 verison depneding on you preference. \n",
    "\n",
    "Once downloaded and installed it is recomended to create a psi4 environment form which\n",
    "the psi4 module can be loaded. Run the comand:\n",
    "\n",
    "**conda create -n p4env python=2.7 psi4 psi4-rt -c psi4/label/dev -c psi4**\n",
    "\n",
    "This will install all the psi4 binaries and a python module which can be imported from the notebook.\n",
    "To finish the installation you need to provide a scratch directory in your .bashrc, for example:\n",
    "\n",
    "**export PSI_SCRATCH=/home/user_name/scratch/psi4**\n",
    "\n",
    "Finally source your .bashrc and activate the environment\n",
    "\n",
    "**source activate p4env**\n",
    "\n",
    "Now you may open jupyter-notebook and install psi4.\n",
    "\n"
   ]
  },
  {
   "cell_type": "code",
   "execution_count": 7,
   "metadata": {
    "collapsed": true
   },
   "outputs": [],
   "source": [
    "import psi4 \n",
    "import numpy as np"
   ]
  },
  {
   "cell_type": "markdown",
   "metadata": {},
   "source": [
    "# 1. Compute the energy of a diatomic molecules.\n",
    "\n",
    "\n",
    "As a first example we will compute the scf energy of the diatómic molecule hydrogen flouride (HF):\n"
   ]
  },
  {
   "cell_type": "code",
   "execution_count": 8,
   "metadata": {},
   "outputs": [
    {
     "name": "stdout",
     "output_type": "stream",
     "text": [
      "-100.34290633\n"
     ]
    }
   ],
   "source": [
    "# ==> Opciones Básicas Psi4 <==\n",
    "# Memoria\n",
    "psi4.set_memory(int(5e8))\n",
    "numpy_memory = 500\n",
    "\n",
    "# Output\n",
    "psi4.core.set_output_file('output.dat', False)\n",
    "\n",
    "# Geometría\n",
    "hf_mol = psi4.geometry(\"\"\"\n",
    "0 1\n",
    "H\n",
    "F 1 0.917\n",
    "\"\"\")\n",
    "\n",
    "#psi4.optimize('scf/cc-pvtz')\n",
    "#di_mat = hf_mol.distance_matrix()\n",
    "#print np.asarray(di_mat)\n",
    "energy_hf_mol , wfn_hf_mol = psi4.energy('mp2/cc-pvtz', return_wfn=True)\n",
    "print energy_hf_mol"
   ]
  },
  {
   "cell_type": "markdown",
   "metadata": {},
   "source": [
    "This corresponds to the Born-Oppenheimer scf energy of HF. Now it's your turn. Compute the single point energy \n",
    "of F$_2$ and N$_2$ using the cc-pVDZ and cc-pVTZ. "
   ]
  },
  {
   "cell_type": "markdown",
   "metadata": {},
   "source": [
    "# 2. Compute the dipole and quadrupole moment of diatomic molecules"
   ]
  },
  {
   "cell_type": "markdown",
   "metadata": {},
   "source": [
    "Since we are intrested in studying long range  molecular interactions using classical elctrodynamics, it is necessary \n",
    "to compute the dipole and quadrupole moments. Quantum mechanically the dipole can be computed using the one electron dipole operator:\n",
    "\n",
    "\\begin{equation}\n",
    "\\hat{\\mu} = \\sum_i q_i r_i \n",
    "\\end{equation}\n",
    "\n",
    "where $q_i$ is the charge of the particle and $r_i$ is the position vector of the particle.  The dipole moment can be computed using the wavefunction through the expectation value of the operator $\\mu$.\n",
    "\n",
    "\\begin{equation}\n",
    "\\mu = <\\psi|\\hat{\\mu}|\\psi> \n",
    "\\end{equation}\n",
    "\n",
    "In psi4 we can obtain the dipole moment from the wafefunction object that was defined above"
   ]
  },
  {
   "cell_type": "code",
   "execution_count": 3,
   "metadata": {
    "collapsed": true
   },
   "outputs": [],
   "source": [
    "psi4.oeprop(wfn, 'DIPOLE', 'QUADRUPOLE', title='HF SCF')\n",
    "\n",
    "mux = psi4.core.get_variable('HF SCF DIPOLE X') # in debye\n",
    "muy = psi4.core.get_variable('HF SCF DIPOLE Y')\n",
    "muz = psi4.core.get_variable('HF SCF DIPOLE Z')\n",
    "quad_zz = psi4.core.get_variable('HF SCF QUADRUPOLE ZZ')"
   ]
  },
  {
   "cell_type": "code",
   "execution_count": 4,
   "metadata": {},
   "outputs": [
    {
     "name": "stdout",
     "output_type": "stream",
     "text": [
      "-1.94992481269\n",
      "-3.17622583369\n",
      "1.94992481269\n"
     ]
    }
   ],
   "source": [
    "print muz\n",
    "print quad_zz\n",
    "mu = (np.sqrt(mux**2 + muy**2 + muz**2))\n",
    "print mu"
   ]
  },
  {
   "cell_type": "markdown",
   "metadata": {
    "collapsed": true
   },
   "source": [
    "# 3.  Compute a potential energy surface of HF dimer.\n",
    "\n",
    "In order to study the physical interactions between two molecules it is convinient to draw \n",
    "a potential energy surface along the interaction coordinate. In this section we will \n",
    "obtain a potential energy profile for the most favorable dipole-dipole interaction, which is the \n",
    "horizontal orientation with oposing dipole vectors, HF---FH. First we need to define a list containing \n",
    "the distances between both dimers for which the energy will be obtained."
   ]
  },
  {
   "cell_type": "code",
   "execution_count": 75,
   "metadata": {
    "collapsed": true
   },
   "outputs": [],
   "source": [
    "hf_dimer = psi4.geometry(\"\"\"\n",
    "        0 1\n",
    "        H\n",
    "        F 1 0.917\n",
    "        H 2 R 1 180.0\n",
    "        F 3 0.917 2 180.0 1 0.0\n",
    "        \"\"\")"
   ]
  },
  {
   "cell_type": "markdown",
   "metadata": {},
   "source": [
    "Next, we write a loop and in each step of the loop we compute the energy at the mp4 level of theory. "
   ]
  },
  {
   "cell_type": "code",
   "execution_count": 89,
   "metadata": {},
   "outputs": [
    {
     "name": "stdout",
     "output_type": "stream",
     "text": [
      "-200.661256547\n",
      "1.5\n",
      "-200.663975673\n",
      "1.6\n",
      "-200.665389991\n",
      "1.7\n",
      "-200.666002762\n",
      "1.8\n",
      "-200.666138995\n",
      "1.9\n",
      "-200.665998991\n",
      "2.0\n",
      "-200.665701798\n",
      "2.1\n",
      "-200.665320196\n",
      "2.2\n",
      "-200.664901232\n",
      "2.3\n",
      "-200.664475292\n",
      "2.4\n",
      "-200.664060667\n",
      "2.5\n",
      "-200.663667338\n",
      "2.6\n",
      "-200.663300238\n",
      "2.7\n",
      "-200.662961502\n",
      "2.8\n",
      "-200.662651718\n",
      "2.9\n",
      "-200.662370559\n",
      "3.0\n",
      "-200.662117067\n",
      "3.1\n",
      "-200.661889797\n",
      "3.2\n",
      "-200.661686891\n",
      "3.3\n",
      "-200.661506164\n",
      "3.4\n",
      "-200.661345239\n",
      "3.5\n",
      "-200.661201724\n",
      "3.6\n",
      "-200.661073358\n",
      "3.7\n",
      "-200.660958124\n",
      "3.8\n",
      "-200.660854292\n",
      "3.9\n",
      "-200.660760415\n",
      "4.0\n",
      "-200.660675286\n",
      "4.1\n",
      "-200.660597893\n",
      "4.2\n",
      "-200.660527368\n",
      "4.3\n",
      "-200.660462951\n",
      "4.4\n",
      "-200.660403978\n",
      "4.5\n",
      "-200.660349853\n",
      "4.6\n",
      "-200.660300051\n",
      "4.7\n",
      "-200.660254106\n",
      "4.8\n",
      "-200.660211611\n",
      "4.9\n",
      "-200.660172206\n",
      "5.0\n",
      "-200.660135581\n",
      "5.1\n",
      "-200.660101465\n",
      "5.2\n",
      "-200.660069623\n",
      "5.3\n",
      "-200.66003985\n",
      "5.4\n",
      "-200.660011966\n",
      "5.5\n",
      "-200.659985812\n",
      "5.6\n",
      "-200.659961249\n",
      "5.7\n",
      "-200.659938152\n",
      "5.8\n",
      "-200.659916409\n",
      "5.9\n",
      "-200.659895918\n",
      "6.0\n",
      "-200.659876591\n",
      "6.1\n",
      "-200.659858343\n",
      "6.2\n",
      "-200.659841099\n",
      "6.3\n",
      "-200.65982479\n",
      "6.4\n",
      "-200.659809354\n",
      "6.5\n",
      "-200.659794731\n",
      "6.6\n",
      "-200.65978087\n",
      "6.7\n",
      "-200.659767721\n",
      "6.8\n",
      "-200.659755238\n",
      "6.9\n",
      "-200.65974338\n",
      "7.0\n",
      "-200.659732109\n",
      "7.1\n",
      "-200.659721387\n",
      "7.2\n",
      "-200.659711182\n",
      "7.3\n",
      "-200.659701462\n",
      "7.4\n",
      "-200.659692201\n",
      "7.5\n",
      "-200.65968337\n",
      "7.6\n",
      "-200.659674945\n",
      "7.7\n",
      "-200.659666903\n",
      "7.8\n",
      "-200.659659223\n",
      "7.9\n",
      "-200.659651883\n",
      "8.0\n",
      "-200.659644865\n",
      "8.1\n",
      "-200.659638153\n",
      "8.2\n",
      "-200.659631729\n",
      "8.3\n",
      "-200.659625578\n",
      "8.4\n",
      "-200.659619685\n",
      "8.5\n",
      "-200.659614038\n",
      "8.6\n",
      "-200.659608624\n",
      "8.7\n",
      "-200.65960343\n",
      "8.8\n",
      "-200.659598446\n",
      "8.9\n",
      "-200.659593661\n",
      "9.0\n",
      "-200.659589065\n",
      "9.1\n",
      "-200.659584648\n",
      "9.2\n",
      "-200.659580404\n",
      "9.3\n",
      "-200.659576323\n",
      "9.4\n",
      "-200.659572396\n",
      "9.5\n",
      "-200.659568618\n",
      "9.6\n",
      "-200.65956498\n",
      "9.7\n",
      "-200.659561477\n",
      "9.8\n",
      "-200.659558102\n",
      "9.9\n"
     ]
    },
    {
     "ename": "TypeError",
     "evalue": "list indices must be integers, not float",
     "output_type": "error",
     "traceback": [
      "\u001b[0;31m---------------------------------------------------------------------------\u001b[0m",
      "\u001b[0;31mTypeError\u001b[0m                                 Traceback (most recent call last)",
      "\u001b[0;32m<ipython-input-89-58742aff4f25>\u001b[0m in \u001b[0;36m<module>\u001b[0;34m()\u001b[0m\n\u001b[1;32m     15\u001b[0m \u001b[0;34m\u001b[0m\u001b[0m\n\u001b[1;32m     16\u001b[0m \u001b[0;32mfor\u001b[0m \u001b[0mx\u001b[0m \u001b[0;32min\u001b[0m \u001b[0menergy\u001b[0m\u001b[0;34m:\u001b[0m\u001b[0;34m\u001b[0m\u001b[0m\n\u001b[0;32m---> 17\u001b[0;31m     \u001b[0menergy_kcal\u001b[0m\u001b[0;34m.\u001b[0m\u001b[0mappend\u001b[0m\u001b[0;34m(\u001b[0m\u001b[0menergy\u001b[0m\u001b[0;34m[\u001b[0m\u001b[0mx\u001b[0m\u001b[0;34m]\u001b[0m \u001b[0;34m-\u001b[0m \u001b[0menergy\u001b[0m\u001b[0;34m[\u001b[0m\u001b[0;34m-\u001b[0m\u001b[0;36m1\u001b[0m\u001b[0;34m]\u001b[0m\u001b[0;34m)\u001b[0m\u001b[0;34m\u001b[0m\u001b[0m\n\u001b[0m\u001b[1;32m     18\u001b[0m \u001b[0;34m\u001b[0m\u001b[0m\n",
      "\u001b[0;31mTypeError\u001b[0m: list indices must be integers, not float"
     ]
    }
   ],
   "source": [
    "energy = []\n",
    "dist   = []\n",
    "\n",
    "Rval = np.arange(1.5,10.0,0.1)\n",
    "\n",
    "for d in Rval:\n",
    "    hf_dimer.R = d\n",
    "    psi4.set_options({'freeze_core': 'True'})\n",
    "    en = psi4.energy('scf/cc-pvtz')\n",
    "    print en\n",
    "    print d\n",
    "    energy.append(en)\n",
    "    dist.append(d)\n"
   ]
  },
  {
   "cell_type": "markdown",
   "metadata": {},
   "source": [
    "Now we are ready to plot the potential energy profile. We will use the matplotlib python library for this \n",
    "purpose. The function ref_cero_kcal transforms the energy which is in hartee to kcal/mol and takes the \n",
    "energy of the dimer with the farthest separation as the reference energy."
   ]
  },
  {
   "cell_type": "code",
   "execution_count": 90,
   "metadata": {
    "collapsed": true
   },
   "outputs": [],
   "source": [
    "import matplotlib.pyplot as plt\n",
    "%matplotlib inline"
   ]
  },
  {
   "cell_type": "code",
   "execution_count": 95,
   "metadata": {},
   "outputs": [
    {
     "data": {
      "text/plain": [
       "[<matplotlib.lines.Line2D at 0x7fecabb654d0>]"
      ]
     },
     "execution_count": 95,
     "metadata": {},
     "output_type": "execute_result"
    },
    {
     "data": {
      "image/png": "[encoded data removed]",
      "text/plain": [
       "<matplotlib.figure.Figure at 0x7fecabc07390>"
      ]
     },
     "metadata": {},
     "output_type": "display_data"
    }
   ],
   "source": [
    "def ref_cero_kcal(en_list):\n",
    "    energy_kcal = []\n",
    "    for x in range(len(en_list)):\n",
    "        energy_kcal.append((en_list[x] - en_list[-1])*627.51)\n",
    "    return energy_kcal\n",
    "\n",
    "\n",
    "energy_kcal = ref_cero_kcal(energy)    \n",
    "plt.plot(dist,energy_kcal)\n"
   ]
  },
  {
   "cell_type": "markdown",
   "metadata": {},
   "source": [
    "**Exercise:** Using the data from the plot, make an estimate of the interaction energy in kcal/mol. Corroborate your results computing the interaction energy using the super-molecule approach. ( Hint: 1 hartree = 627.51 kcal/mol). What percentage of the total enregy is the intermolecular interaction energy? "
   ]
  },
  {
   "cell_type": "code",
   "execution_count": 72,
   "metadata": {
    "collapsed": true
   },
   "outputs": [],
   "source": []
  },
  {
   "cell_type": "markdown",
   "metadata": {},
   "source": [
    "# 4. The effect of electron correlation\n",
    "\n",
    "Since we know that the dispersion energy arises only when the motion of the electrons on the different molecular fragments are correlated, it is possible to evalute the importance of disperison efects by using\n",
    "methods that include diferent levels of electron correlation. \n",
    "\n",
    "**Exercice**: Construct a potential energy curve at the SCF, MP2 and MP4 level of theory and \n",
    "asses the importance of including electron correlation along the intermolecular coordinate."
   ]
  },
  {
   "cell_type": "markdown",
   "metadata": {},
   "source": [
    "# 5. Energy decomposition with SAPT\n",
    "\n",
    "So far we have only computed the interaction energy as a whole, however we know that we can\n",
    "decompose the interaction energy into contribiutions stemming from different physical fenomena, \n",
    "in particular, electrostatic, induction, dispersion and exchange interactions. First we will run a \n",
    "sapt0 calculation to obtain the total interaction energy and compare it to the results we obtained \n",
    "above."
   ]
  },
  {
   "cell_type": "code",
   "execution_count": 9,
   "metadata": {},
   "outputs": [
    {
     "data": {
      "text/plain": [
       "-0.006356211476885718"
      ]
     },
     "execution_count": 9,
     "metadata": {},
     "output_type": "execute_result"
    }
   ],
   "source": [
    "hf_dimer_sapt = psi4.geometry('''\n",
    "     0 1\n",
    "     H  0.0 0.0 0.0\n",
    "     F  0.0 0.0 0.917\n",
    "     --\n",
    "    0 1\n",
    "     H  0.0 0.0 2.951\n",
    "     F  0.0 0.0 3.868\n",
    "     symmetry c1\n",
    "''')\n",
    "\n",
    "psi4.set_options({'basis': 'jun-cc-pVDZ',\n",
    "                  'e_convergence': 1e-8,\n",
    "                  'd_convergence': 1e-8})\n",
    "\n",
    "psi4.energy('sapt0')"
   ]
  },
  {
   "cell_type": "markdown",
   "metadata": {},
   "source": [
    "Check the output file for energy decomposition analysis. Which contribuition is dominant, and what do you think\n",
    "is the physical reason for it? "
   ]
  },
  {
   "cell_type": "markdown",
   "metadata": {},
   "source": [
    "**Exercise:** Repeat the above analysis with the Argon dimer $Ar_2$. What can you say about the importance \n",
    "of the correlation energy in this case? Which is the dominant contribiution in the case of the Ar dimer?"
   ]
  },
  {
   "cell_type": "code",
   "execution_count": null,
   "metadata": {
    "collapsed": true
   },
   "outputs": [],
   "source": []
  }
 ],
 "metadata": {
  "kernelspec": {
   "display_name": "Python 2",
   "language": "python",
   "name": "python2"
  },
  "language_info": {
   "codemirror_mode": {
    "name": "ipython",
    "version": 2
   },
   "file_extension": ".py",
   "mimetype": "text/x-python",
   "name": "python",
   "nbconvert_exporter": "python",
   "pygments_lexer": "ipython2",
   "version": "2.7.13"
  }
 },
 "nbformat": 4,
 "nbformat_minor": 2
}
